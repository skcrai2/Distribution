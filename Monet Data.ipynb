{
 "cells": [
  {
   "cell_type": "code",
   "execution_count": 114,
   "metadata": {},
   "outputs": [],
   "source": [
    "# Import using Pandas\n",
    "# Part 1 and 2\n",
    "# Ignore Header and only import prices column\n",
    "\n",
    "import pandas as pd\n",
    "df = pd.read_csv('data/monet.csv', )"
   ]
  },
  {
   "cell_type": "code",
   "execution_count": 115,
   "metadata": {
    "scrolled": true
   },
   "outputs": [
    {
     "name": "stdout",
     "output_type": "stream",
     "text": [
      "             0\n",
      "0     3.993780\n",
      "1     8.800000\n",
      "2     0.131694\n",
      "3     2.037500\n",
      "4     1.487500\n",
      "5     1.870000\n",
      "6     5.282500\n",
      "7     5.065750\n",
      "8     1.375000\n",
      "9     2.530000\n",
      "10    3.742500\n",
      "11    0.364343\n",
      "12    2.723870\n",
      "13    3.520000\n",
      "14    0.497500\n",
      "15    9.350000\n",
      "16    1.219500\n",
      "17    0.407000\n",
      "18    3.713390\n",
      "19    5.296406\n",
      "20    2.862000\n",
      "21    4.180000\n",
      "22    2.480750\n",
      "23    0.237068\n",
      "24    0.527446\n",
      "25   33.013504\n",
      "26    0.035549\n",
      "27    0.495000\n",
      "28    1.078000\n",
      "29    0.431500\n",
      "..         ...\n",
      "400   0.399166\n",
      "401   0.847500\n",
      "402   6.902440\n",
      "403   1.051000\n",
      "404   0.182636\n",
      "405   1.300000\n",
      "406   4.510000\n",
      "407   0.679500\n",
      "408   0.841866\n",
      "409   0.206015\n",
      "410   1.432500\n",
      "411   0.792000\n",
      "412   7.539658\n",
      "413   4.999273\n",
      "414   2.202500\n",
      "415   4.076000\n",
      "416   1.106000\n",
      "417   0.374598\n",
      "418   0.662500\n",
      "419   3.742500\n",
      "420   0.544554\n",
      "421   4.512500\n",
      "422   5.502500\n",
      "423   1.870000\n",
      "424   3.850000\n",
      "425   5.282500\n",
      "426   9.352500\n",
      "427   8.252500\n",
      "428   3.410000\n",
      "429   1.542500\n",
      "\n",
      "[430 rows x 1 columns]\n"
     ]
    }
   ],
   "source": [
    "print(df)"
   ]
  },
  {
   "cell_type": "code",
   "execution_count": 116,
   "metadata": {},
   "outputs": [
    {
     "data": {
      "text/html": [
       "<div>\n",
       "<style scoped>\n",
       "    .dataframe tbody tr th:only-of-type {\n",
       "        vertical-align: middle;\n",
       "    }\n",
       "\n",
       "    .dataframe tbody tr th {\n",
       "        vertical-align: top;\n",
       "    }\n",
       "\n",
       "    .dataframe thead th {\n",
       "        text-align: right;\n",
       "    }\n",
       "</style>\n",
       "<table border=\"1\" class=\"dataframe\">\n",
       "  <thead>\n",
       "    <tr style=\"text-align: right;\">\n",
       "      <th></th>\n",
       "      <th>prices</th>\n",
       "    </tr>\n",
       "  </thead>\n",
       "  <tbody>\n",
       "    <tr>\n",
       "      <th>0</th>\n",
       "      <td>3.993780</td>\n",
       "    </tr>\n",
       "    <tr>\n",
       "      <th>1</th>\n",
       "      <td>8.800000</td>\n",
       "    </tr>\n",
       "    <tr>\n",
       "      <th>2</th>\n",
       "      <td>0.131694</td>\n",
       "    </tr>\n",
       "    <tr>\n",
       "      <th>3</th>\n",
       "      <td>2.037500</td>\n",
       "    </tr>\n",
       "    <tr>\n",
       "      <th>4</th>\n",
       "      <td>1.487500</td>\n",
       "    </tr>\n",
       "    <tr>\n",
       "      <th>5</th>\n",
       "      <td>1.870000</td>\n",
       "    </tr>\n",
       "    <tr>\n",
       "      <th>6</th>\n",
       "      <td>5.282500</td>\n",
       "    </tr>\n",
       "    <tr>\n",
       "      <th>7</th>\n",
       "      <td>5.065750</td>\n",
       "    </tr>\n",
       "    <tr>\n",
       "      <th>8</th>\n",
       "      <td>1.375000</td>\n",
       "    </tr>\n",
       "    <tr>\n",
       "      <th>9</th>\n",
       "      <td>2.530000</td>\n",
       "    </tr>\n",
       "    <tr>\n",
       "      <th>10</th>\n",
       "      <td>3.742500</td>\n",
       "    </tr>\n",
       "    <tr>\n",
       "      <th>11</th>\n",
       "      <td>0.364343</td>\n",
       "    </tr>\n",
       "    <tr>\n",
       "      <th>12</th>\n",
       "      <td>2.723870</td>\n",
       "    </tr>\n",
       "    <tr>\n",
       "      <th>13</th>\n",
       "      <td>3.520000</td>\n",
       "    </tr>\n",
       "    <tr>\n",
       "      <th>14</th>\n",
       "      <td>0.497500</td>\n",
       "    </tr>\n",
       "    <tr>\n",
       "      <th>15</th>\n",
       "      <td>9.350000</td>\n",
       "    </tr>\n",
       "    <tr>\n",
       "      <th>16</th>\n",
       "      <td>1.219500</td>\n",
       "    </tr>\n",
       "    <tr>\n",
       "      <th>17</th>\n",
       "      <td>0.407000</td>\n",
       "    </tr>\n",
       "    <tr>\n",
       "      <th>18</th>\n",
       "      <td>3.713390</td>\n",
       "    </tr>\n",
       "    <tr>\n",
       "      <th>19</th>\n",
       "      <td>5.296406</td>\n",
       "    </tr>\n",
       "    <tr>\n",
       "      <th>20</th>\n",
       "      <td>2.862000</td>\n",
       "    </tr>\n",
       "    <tr>\n",
       "      <th>21</th>\n",
       "      <td>4.180000</td>\n",
       "    </tr>\n",
       "    <tr>\n",
       "      <th>22</th>\n",
       "      <td>2.480750</td>\n",
       "    </tr>\n",
       "    <tr>\n",
       "      <th>23</th>\n",
       "      <td>0.237068</td>\n",
       "    </tr>\n",
       "    <tr>\n",
       "      <th>24</th>\n",
       "      <td>0.527446</td>\n",
       "    </tr>\n",
       "    <tr>\n",
       "      <th>25</th>\n",
       "      <td>33.013504</td>\n",
       "    </tr>\n",
       "    <tr>\n",
       "      <th>26</th>\n",
       "      <td>0.035549</td>\n",
       "    </tr>\n",
       "    <tr>\n",
       "      <th>27</th>\n",
       "      <td>0.495000</td>\n",
       "    </tr>\n",
       "    <tr>\n",
       "      <th>28</th>\n",
       "      <td>1.078000</td>\n",
       "    </tr>\n",
       "    <tr>\n",
       "      <th>29</th>\n",
       "      <td>0.431500</td>\n",
       "    </tr>\n",
       "    <tr>\n",
       "      <th>...</th>\n",
       "      <td>...</td>\n",
       "    </tr>\n",
       "    <tr>\n",
       "      <th>400</th>\n",
       "      <td>0.399166</td>\n",
       "    </tr>\n",
       "    <tr>\n",
       "      <th>401</th>\n",
       "      <td>0.847500</td>\n",
       "    </tr>\n",
       "    <tr>\n",
       "      <th>402</th>\n",
       "      <td>6.902440</td>\n",
       "    </tr>\n",
       "    <tr>\n",
       "      <th>403</th>\n",
       "      <td>1.051000</td>\n",
       "    </tr>\n",
       "    <tr>\n",
       "      <th>404</th>\n",
       "      <td>0.182636</td>\n",
       "    </tr>\n",
       "    <tr>\n",
       "      <th>405</th>\n",
       "      <td>1.300000</td>\n",
       "    </tr>\n",
       "    <tr>\n",
       "      <th>406</th>\n",
       "      <td>4.510000</td>\n",
       "    </tr>\n",
       "    <tr>\n",
       "      <th>407</th>\n",
       "      <td>0.679500</td>\n",
       "    </tr>\n",
       "    <tr>\n",
       "      <th>408</th>\n",
       "      <td>0.841866</td>\n",
       "    </tr>\n",
       "    <tr>\n",
       "      <th>409</th>\n",
       "      <td>0.206015</td>\n",
       "    </tr>\n",
       "    <tr>\n",
       "      <th>410</th>\n",
       "      <td>1.432500</td>\n",
       "    </tr>\n",
       "    <tr>\n",
       "      <th>411</th>\n",
       "      <td>0.792000</td>\n",
       "    </tr>\n",
       "    <tr>\n",
       "      <th>412</th>\n",
       "      <td>7.539658</td>\n",
       "    </tr>\n",
       "    <tr>\n",
       "      <th>413</th>\n",
       "      <td>4.999273</td>\n",
       "    </tr>\n",
       "    <tr>\n",
       "      <th>414</th>\n",
       "      <td>2.202500</td>\n",
       "    </tr>\n",
       "    <tr>\n",
       "      <th>415</th>\n",
       "      <td>4.076000</td>\n",
       "    </tr>\n",
       "    <tr>\n",
       "      <th>416</th>\n",
       "      <td>1.106000</td>\n",
       "    </tr>\n",
       "    <tr>\n",
       "      <th>417</th>\n",
       "      <td>0.374598</td>\n",
       "    </tr>\n",
       "    <tr>\n",
       "      <th>418</th>\n",
       "      <td>0.662500</td>\n",
       "    </tr>\n",
       "    <tr>\n",
       "      <th>419</th>\n",
       "      <td>3.742500</td>\n",
       "    </tr>\n",
       "    <tr>\n",
       "      <th>420</th>\n",
       "      <td>0.544554</td>\n",
       "    </tr>\n",
       "    <tr>\n",
       "      <th>421</th>\n",
       "      <td>4.512500</td>\n",
       "    </tr>\n",
       "    <tr>\n",
       "      <th>422</th>\n",
       "      <td>5.502500</td>\n",
       "    </tr>\n",
       "    <tr>\n",
       "      <th>423</th>\n",
       "      <td>1.870000</td>\n",
       "    </tr>\n",
       "    <tr>\n",
       "      <th>424</th>\n",
       "      <td>3.850000</td>\n",
       "    </tr>\n",
       "    <tr>\n",
       "      <th>425</th>\n",
       "      <td>5.282500</td>\n",
       "    </tr>\n",
       "    <tr>\n",
       "      <th>426</th>\n",
       "      <td>9.352500</td>\n",
       "    </tr>\n",
       "    <tr>\n",
       "      <th>427</th>\n",
       "      <td>8.252500</td>\n",
       "    </tr>\n",
       "    <tr>\n",
       "      <th>428</th>\n",
       "      <td>3.410000</td>\n",
       "    </tr>\n",
       "    <tr>\n",
       "      <th>429</th>\n",
       "      <td>1.542500</td>\n",
       "    </tr>\n",
       "  </tbody>\n",
       "</table>\n",
       "<p>430 rows × 1 columns</p>\n",
       "</div>"
      ],
      "text/plain": [
       "        prices\n",
       "0     3.993780\n",
       "1     8.800000\n",
       "2     0.131694\n",
       "3     2.037500\n",
       "4     1.487500\n",
       "5     1.870000\n",
       "6     5.282500\n",
       "7     5.065750\n",
       "8     1.375000\n",
       "9     2.530000\n",
       "10    3.742500\n",
       "11    0.364343\n",
       "12    2.723870\n",
       "13    3.520000\n",
       "14    0.497500\n",
       "15    9.350000\n",
       "16    1.219500\n",
       "17    0.407000\n",
       "18    3.713390\n",
       "19    5.296406\n",
       "20    2.862000\n",
       "21    4.180000\n",
       "22    2.480750\n",
       "23    0.237068\n",
       "24    0.527446\n",
       "25   33.013504\n",
       "26    0.035549\n",
       "27    0.495000\n",
       "28    1.078000\n",
       "29    0.431500\n",
       "..         ...\n",
       "400   0.399166\n",
       "401   0.847500\n",
       "402   6.902440\n",
       "403   1.051000\n",
       "404   0.182636\n",
       "405   1.300000\n",
       "406   4.510000\n",
       "407   0.679500\n",
       "408   0.841866\n",
       "409   0.206015\n",
       "410   1.432500\n",
       "411   0.792000\n",
       "412   7.539658\n",
       "413   4.999273\n",
       "414   2.202500\n",
       "415   4.076000\n",
       "416   1.106000\n",
       "417   0.374598\n",
       "418   0.662500\n",
       "419   3.742500\n",
       "420   0.544554\n",
       "421   4.512500\n",
       "422   5.502500\n",
       "423   1.870000\n",
       "424   3.850000\n",
       "425   5.282500\n",
       "426   9.352500\n",
       "427   8.252500\n",
       "428   3.410000\n",
       "429   1.542500\n",
       "\n",
       "[430 rows x 1 columns]"
      ]
     },
     "execution_count": 116,
     "metadata": {},
     "output_type": "execute_result"
    }
   ],
   "source": [
    "# Part 3 and 4 (use entire data, not a random sample)\n",
    "# Add column header 'prices' to dataframe\n",
    "\n",
    "df.columns = ['prices']\n",
    "df"
   ]
  },
  {
   "cell_type": "code",
   "execution_count": 117,
   "metadata": {},
   "outputs": [
    {
     "data": {
      "text/plain": [
       "[<matplotlib.lines.Line2D at 0x26b8f7078d0>]"
      ]
     },
     "execution_count": 117,
     "metadata": {},
     "output_type": "execute_result"
    },
    {
     "data": {
      "image/png": "[encoded data removed]",
      "text/plain": [
       "<Figure size 432x288 with 1 Axes>"
      ]
     },
     "metadata": {
      "needs_background": "light"
     },
     "output_type": "display_data"
    }
   ],
   "source": [
    "# Part 5 - Plot prices using +\n",
    "\n",
    "%matplotlib inline\n",
    "import numpy as np\n",
    "import matplotlib.pyplot as plt\n",
    "\n",
    "plt.plot(df, 'c+')"
   ]
  },
  {
   "cell_type": "code",
   "execution_count": 118,
   "metadata": {},
   "outputs": [
    {
     "data": {
      "text/plain": [
       "<matplotlib.axes._subplots.AxesSubplot at 0x26b8f734ba8>"
      ]
     },
     "execution_count": 118,
     "metadata": {},
     "output_type": "execute_result"
    },
    {
     "data": {
      "image/png": "[encoded data removed]",
      "text/plain": [
       "<Figure size 432x288 with 1 Axes>"
      ]
     },
     "metadata": {
      "needs_background": "light"
     },
     "output_type": "display_data"
    }
   ],
   "source": [
    "# Part 6 - Plot sorted prices\n",
    "\n",
    "sorted = df.sort_values('prices')\n",
    "sorted.plot(use_index=False)"
   ]
  },
  {
   "cell_type": "code",
   "execution_count": 135,
   "metadata": {},
   "outputs": [
    {
     "data": {
      "text/plain": [
       "<matplotlib.axes._subplots.AxesSubplot at 0x26b90cd65c0>"
      ]
     },
     "execution_count": 135,
     "metadata": {},
     "output_type": "execute_result"
    },
    {
     "data": {
      "image/png": "[encoded data removed]",
      "text/plain": [
       "<Figure size 432x288 with 1 Axes>"
      ]
     },
     "metadata": {
      "needs_background": "light"
     },
     "output_type": "display_data"
    }
   ],
   "source": [
    "# Part 7 - Plot histogram of prices\n",
    "\n",
    "df.plot.hist()"
   ]
  },
  {
   "cell_type": "code",
   "execution_count": 92,
   "metadata": {},
   "outputs": [],
   "source": [
    "# Part 8 and 9 - Create probability density function and normal functions and plot gaussian function\n",
    "\n",
    "def pdf(x, mean, sd):\n",
    "    top = np.exp(-((x-mean)**2) / (2 * sd ** 2))\n",
    "    bottom = np.sqrt(2 * np.pi * sd ** 2)\n",
    "    return top/bottom"
   ]
  },
  {
   "cell_type": "code",
   "execution_count": 93,
   "metadata": {},
   "outputs": [
    {
     "data": {
      "text/plain": [
       "0.3989422804014327"
      ]
     },
     "execution_count": 93,
     "metadata": {},
     "output_type": "execute_result"
    }
   ],
   "source": [
    "pdf(0,0,1)"
   ]
  },
  {
   "cell_type": "code",
   "execution_count": 94,
   "metadata": {},
   "outputs": [],
   "source": [
    "def normal(mean, sd, start, stop, step=0.01):\n",
    "    xarray = np.arange(start, stop, step)\n",
    "    ylist = [pdf(x, mean, sd) for x in xarray]\n",
    "    return (xarray, np.array(ylist))"
   ]
  },
  {
   "cell_type": "code",
   "execution_count": 95,
   "metadata": {},
   "outputs": [],
   "source": [
    "(xrange, red) = normal (0,1,-5,5, 0.01)"
   ]
  },
  {
   "cell_type": "code",
   "execution_count": 96,
   "metadata": {},
   "outputs": [
    {
     "data": {
      "text/plain": [
       "array([1.48671951e-06, 1.56286711e-06, 1.64275059e-06, 1.72654452e-06,\n",
       "       1.81443119e-06, 1.90660090e-06, 2.00325233e-06, 2.10459284e-06,\n",
       "       2.21083887e-06, 2.32221628e-06, 2.43896075e-06, 2.56131814e-06,\n",
       "       2.68954497e-06, 2.82390880e-06, 2.96468867e-06, 3.11217558e-06,\n",
       "       3.26667296e-06, 3.42849718e-06, 3.59797801e-06, 3.77545923e-06,\n",
       "       3.96129909e-06, 4.15587096e-06, 4.35956388e-06, 4.57278315e-06,\n",
       "       4.79595102e-06, 5.02950729e-06, 5.27391001e-06, 5.52963619e-06,\n",
       "       5.79718251e-06, 6.07706607e-06, 6.36982518e-06, 6.67602015e-06,\n",
       "       6.99623414e-06, 7.33107399e-06, 7.68117112e-06, 8.04718246e-06,\n",
       "       8.42979138e-06, 8.82970870e-06, 9.24767367e-06, 9.68445502e-06,\n",
       "       1.01408521e-05, 1.06176958e-05, 1.11158501e-05, 1.16362128e-05,\n",
       "       1.21797170e-05, 1.27473324e-05, 1.33400665e-05, 1.39589660e-05,\n",
       "       1.46051181e-05, 1.52796522e-05, 1.59837411e-05, 1.67186026e-05,\n",
       "       1.74855010e-05, 1.82857492e-05, 1.91207097e-05, 1.99917967e-05,\n",
       "       2.09004779e-05, 2.18482762e-05, 2.28367716e-05, 2.38676032e-05,\n",
       "       2.49424713e-05, 2.60631392e-05, 2.72314356e-05, 2.84492564e-05,\n",
       "       2.97185677e-05, 3.10414071e-05, 3.24198868e-05, 3.38561960e-05,\n",
       "       3.53526030e-05, 3.69114583e-05, 3.85351967e-05, 4.02263408e-05,\n",
       "       4.19875029e-05, 4.38213887e-05, 4.57307997e-05, 4.77186365e-05,\n",
       "       4.97879021e-05, 5.19417046e-05, 5.41832611e-05, 5.65159006e-05,\n",
       "       5.89430678e-05, 6.14683264e-05, 6.40953632e-05, 6.68279913e-05,\n",
       "       6.96701544e-05, 7.26259303e-05, 7.56995355e-05, 7.88953290e-05,\n",
       "       8.22178165e-05, 8.56716551e-05, 8.92616572e-05, 9.29927957e-05,\n",
       "       9.68702084e-05, 1.00899203e-04, 1.05085260e-04, 1.09434043e-04,\n",
       "       1.13951398e-04, 1.18643361e-04, 1.23516163e-04, 1.28576239e-04,\n",
       "       1.33830226e-04, 1.39284976e-04, 1.44947560e-04, 1.50825272e-04,\n",
       "       1.56925634e-04, 1.63256409e-04, 1.69825599e-04, 1.76641459e-04,\n",
       "       1.83712498e-04, 1.91047488e-04, 1.98655471e-04, 2.06545768e-04,\n",
       "       2.14727982e-04, 2.23212007e-04, 2.32008040e-04, 2.41126580e-04,\n",
       "       2.50578445e-04, 2.60374772e-04, 2.70527031e-04, 2.81047031e-04,\n",
       "       2.91946926e-04, 3.03239228e-04, 3.14936813e-04, 3.27052930e-04,\n",
       "       3.39601212e-04, 3.52595682e-04, 3.66050765e-04, 3.79981294e-04,\n",
       "       3.94402525e-04, 4.09330142e-04, 4.24780271e-04, 4.40769483e-04,\n",
       "       4.57314814e-04, 4.74433768e-04, 4.92144329e-04, 5.10464974e-04,\n",
       "       5.29414683e-04, 5.49012947e-04, 5.69279784e-04, 5.90235745e-04,\n",
       "       6.11901930e-04, 6.34299998e-04, 6.57452176e-04, 6.81381275e-04,\n",
       "       7.06110700e-04, 7.31664463e-04, 7.58067191e-04, 7.85344146e-04,\n",
       "       8.13521231e-04, 8.42625005e-04, 8.72682695e-04, 9.03722211e-04,\n",
       "       9.35772157e-04, 9.68861843e-04, 1.00302130e-03, 1.03828130e-03,\n",
       "       1.07467334e-03, 1.11222971e-03, 1.15098344e-03, 1.19096839e-03,\n",
       "       1.23221917e-03, 1.27477124e-03, 1.31866089e-03, 1.36392524e-03,\n",
       "       1.41060226e-03, 1.45873080e-03, 1.50835061e-03, 1.55950232e-03,\n",
       "       1.61222747e-03, 1.66656854e-03, 1.72256894e-03, 1.78027304e-03,\n",
       "       1.83972618e-03, 1.90097468e-03, 1.96406587e-03, 2.02904806e-03,\n",
       "       2.09597061e-03, 2.16488393e-03, 2.23583944e-03, 2.30888967e-03,\n",
       "       2.38408820e-03, 2.46148972e-03, 2.54115003e-03, 2.62312602e-03,\n",
       "       2.70747576e-03, 2.79425841e-03, 2.88353435e-03, 2.97536508e-03,\n",
       "       3.06981330e-03, 3.16694293e-03, 3.26681906e-03, 3.36950802e-03,\n",
       "       3.47507738e-03, 3.58359593e-03, 3.69513373e-03, 3.80976210e-03,\n",
       "       3.92755363e-03, 4.04858220e-03, 4.17292298e-03, 4.30065246e-03,\n",
       "       4.43184841e-03, 4.56658995e-03, 4.70495753e-03, 4.84703291e-03,\n",
       "       4.99289921e-03, 5.14264092e-03, 5.29634387e-03, 5.45409524e-03,\n",
       "       5.61598360e-03, 5.78209889e-03, 5.95253242e-03, 6.12737690e-03,\n",
       "       6.30672640e-03, 6.49067639e-03, 6.67932374e-03, 6.87276669e-03,\n",
       "       7.07110489e-03, 7.27443936e-03, 7.48287253e-03, 7.69650820e-03,\n",
       "       7.91545158e-03, 8.13980925e-03, 8.36968915e-03, 8.60520064e-03,\n",
       "       8.84645440e-03, 9.09356250e-03, 9.34663837e-03, 9.60579676e-03,\n",
       "       9.87115379e-03, 1.01428269e-02, 1.04209348e-02, 1.07055976e-02,\n",
       "       1.09969366e-02, 1.12950745e-02, 1.16001351e-02, 1.19122436e-02,\n",
       "       1.22315264e-02, 1.25581109e-02, 1.28921261e-02, 1.32337018e-02,\n",
       "       1.35829692e-02, 1.39400605e-02, 1.43051090e-02, 1.46782491e-02,\n",
       "       1.50596163e-02, 1.54493471e-02, 1.58475790e-02, 1.62544505e-02,\n",
       "       1.66701008e-02, 1.70946705e-02, 1.75283005e-02, 1.79711330e-02,\n",
       "       1.84233106e-02, 1.88849771e-02, 1.93562767e-02, 1.98373544e-02,\n",
       "       2.03283557e-02, 2.08294270e-02, 2.13407149e-02, 2.18623668e-02,\n",
       "       2.23945303e-02, 2.29373537e-02, 2.34909854e-02, 2.40555742e-02,\n",
       "       2.46312693e-02, 2.52182199e-02, 2.58165755e-02, 2.64264855e-02,\n",
       "       2.70480995e-02, 2.76815671e-02, 2.83270377e-02, 2.89846606e-02,\n",
       "       2.96545848e-02, 3.03369592e-02, 3.10319322e-02, 3.17396518e-02,\n",
       "       3.24602656e-02, 3.31939206e-02, 3.39407632e-02, 3.47009390e-02,\n",
       "       3.54745928e-02, 3.62618689e-02, 3.70629102e-02, 3.78778590e-02,\n",
       "       3.87068561e-02, 3.95500416e-02, 4.04075539e-02, 4.12795304e-02,\n",
       "       4.21661070e-02, 4.30674179e-02, 4.39835960e-02, 4.49147723e-02,\n",
       "       4.58610763e-02, 4.68226353e-02, 4.77995749e-02, 4.87920186e-02,\n",
       "       4.98000877e-02, 5.08239015e-02, 5.18635767e-02, 5.29192277e-02,\n",
       "       5.39909665e-02, 5.50789024e-02, 5.61831419e-02, 5.73037889e-02,\n",
       "       5.84409443e-02, 5.95947061e-02, 6.07651690e-02, 6.19524246e-02,\n",
       "       6.31565614e-02, 6.43776643e-02, 6.56158148e-02, 6.68710906e-02,\n",
       "       6.81435661e-02, 6.94333115e-02, 7.07403935e-02, 7.20648743e-02,\n",
       "       7.34068126e-02, 7.47662624e-02, 7.61432737e-02, 7.75378920e-02,\n",
       "       7.89501583e-02, 8.03801091e-02, 8.18277760e-02, 8.32931861e-02,\n",
       "       8.47763613e-02, 8.62773188e-02, 8.77960706e-02, 8.93326235e-02,\n",
       "       9.08869790e-02, 9.24591334e-02, 9.40490774e-02, 9.56567962e-02,\n",
       "       9.72822693e-02, 9.89254707e-02, 1.00586368e-01, 1.02264925e-01,\n",
       "       1.03961095e-01, 1.05674831e-01, 1.07406075e-01, 1.09154766e-01,\n",
       "       1.10920835e-01, 1.12704207e-01, 1.14504800e-01, 1.16322528e-01,\n",
       "       1.18157295e-01, 1.20009001e-01, 1.21877537e-01, 1.23762790e-01,\n",
       "       1.25664637e-01, 1.27582951e-01, 1.29517596e-01, 1.31468430e-01,\n",
       "       1.33435304e-01, 1.35418062e-01, 1.37416539e-01, 1.39430566e-01,\n",
       "       1.41459965e-01, 1.43504551e-01, 1.45564130e-01, 1.47638504e-01,\n",
       "       1.49727466e-01, 1.51830800e-01, 1.53948287e-01, 1.56079696e-01,\n",
       "       1.58224790e-01, 1.60383327e-01, 1.62555055e-01, 1.64739715e-01,\n",
       "       1.66937042e-01, 1.69146761e-01, 1.71368592e-01, 1.73602247e-01,\n",
       "       1.75847430e-01, 1.78103839e-01, 1.80371163e-01, 1.82649085e-01,\n",
       "       1.84937281e-01, 1.87235418e-01, 1.89543158e-01, 1.91860155e-01,\n",
       "       1.94186055e-01, 1.96520499e-01, 1.98863119e-01, 2.01213543e-01,\n",
       "       2.03571388e-01, 2.05936269e-01, 2.08307790e-01, 2.10685552e-01,\n",
       "       2.13069147e-01, 2.15458162e-01, 2.17852177e-01, 2.20250767e-01,\n",
       "       2.22653499e-01, 2.25059935e-01, 2.27469632e-01, 2.29882141e-01,\n",
       "       2.32297005e-01, 2.34713764e-01, 2.37131952e-01, 2.39551098e-01,\n",
       "       2.41970725e-01, 2.44390351e-01, 2.46809491e-01, 2.49227652e-01,\n",
       "       2.51644341e-01, 2.54059056e-01, 2.56471294e-01, 2.58880547e-01,\n",
       "       2.61286301e-01, 2.63688042e-01, 2.66085250e-01, 2.68477402e-01,\n",
       "       2.70863972e-01, 2.73244431e-01, 2.75618247e-01, 2.77984886e-01,\n",
       "       2.80343811e-01, 2.82694482e-01, 2.85036358e-01, 2.87368897e-01,\n",
       "       2.89691553e-01, 2.92003780e-01, 2.94305030e-01, 2.96594755e-01,\n",
       "       2.98872406e-01, 3.01137432e-01, 3.03389284e-01, 3.05627410e-01,\n",
       "       3.07851260e-01, 3.10060285e-01, 3.12253933e-01, 3.14431657e-01,\n",
       "       3.16592908e-01, 3.18737138e-01, 3.20863804e-01, 3.22972360e-01,\n",
       "       3.25062264e-01, 3.27132977e-01, 3.29183961e-01, 3.31214680e-01,\n",
       "       3.33224603e-01, 3.35213199e-01, 3.37179944e-01, 3.39124313e-01,\n",
       "       3.41045789e-01, 3.42943855e-01, 3.44818001e-01, 3.46667721e-01,\n",
       "       3.48492513e-01, 3.50291879e-01, 3.52065327e-01, 3.53812370e-01,\n",
       "       3.55532529e-01, 3.57225325e-01, 3.58890291e-01, 3.60526962e-01,\n",
       "       3.62134882e-01, 3.63713600e-01, 3.65262673e-01, 3.66781662e-01,\n",
       "       3.68270140e-01, 3.69727684e-01, 3.71153879e-01, 3.72548319e-01,\n",
       "       3.73910605e-01, 3.75240347e-01, 3.76537162e-01, 3.77800677e-01,\n",
       "       3.79030526e-01, 3.80226355e-01, 3.81387815e-01, 3.82514571e-01,\n",
       "       3.83606292e-01, 3.84662661e-01, 3.85683369e-01, 3.86668117e-01,\n",
       "       3.87616615e-01, 3.88528585e-01, 3.89403759e-01, 3.90241878e-01,\n",
       "       3.91042694e-01, 3.91805971e-01, 3.92531483e-01, 3.93219015e-01,\n",
       "       3.93868362e-01, 3.94479331e-01, 3.95051741e-01, 3.95585421e-01,\n",
       "       3.96080212e-01, 3.96535966e-01, 3.96952547e-01, 3.97329832e-01,\n",
       "       3.97667706e-01, 3.97966068e-01, 3.98224830e-01, 3.98443914e-01,\n",
       "       3.98623254e-01, 3.98762797e-01, 3.98862500e-01, 3.98922334e-01,\n",
       "       3.98942280e-01, 3.98922334e-01, 3.98862500e-01, 3.98762797e-01,\n",
       "       3.98623254e-01, 3.98443914e-01, 3.98224830e-01, 3.97966068e-01,\n",
       "       3.97667706e-01, 3.97329832e-01, 3.96952547e-01, 3.96535966e-01,\n",
       "       3.96080212e-01, 3.95585421e-01, 3.95051741e-01, 3.94479331e-01,\n",
       "       3.93868362e-01, 3.93219015e-01, 3.92531483e-01, 3.91805971e-01,\n",
       "       3.91042694e-01, 3.90241878e-01, 3.89403759e-01, 3.88528585e-01,\n",
       "       3.87616615e-01, 3.86668117e-01, 3.85683369e-01, 3.84662661e-01,\n",
       "       3.83606292e-01, 3.82514571e-01, 3.81387815e-01, 3.80226355e-01,\n",
       "       3.79030526e-01, 3.77800677e-01, 3.76537162e-01, 3.75240347e-01,\n",
       "       3.73910605e-01, 3.72548319e-01, 3.71153879e-01, 3.69727684e-01,\n",
       "       3.68270140e-01, 3.66781662e-01, 3.65262673e-01, 3.63713600e-01,\n",
       "       3.62134882e-01, 3.60526962e-01, 3.58890291e-01, 3.57225325e-01,\n",
       "       3.55532529e-01, 3.53812370e-01, 3.52065327e-01, 3.50291879e-01,\n",
       "       3.48492513e-01, 3.46667721e-01, 3.44818001e-01, 3.42943855e-01,\n",
       "       3.41045789e-01, 3.39124313e-01, 3.37179944e-01, 3.35213199e-01,\n",
       "       3.33224603e-01, 3.31214680e-01, 3.29183961e-01, 3.27132977e-01,\n",
       "       3.25062264e-01, 3.22972360e-01, 3.20863804e-01, 3.18737138e-01,\n",
       "       3.16592908e-01, 3.14431657e-01, 3.12253933e-01, 3.10060285e-01,\n",
       "       3.07851260e-01, 3.05627410e-01, 3.03389284e-01, 3.01137432e-01,\n",
       "       2.98872406e-01, 2.96594755e-01, 2.94305030e-01, 2.92003780e-01,\n",
       "       2.89691553e-01, 2.87368897e-01, 2.85036358e-01, 2.82694482e-01,\n",
       "       2.80343811e-01, 2.77984886e-01, 2.75618247e-01, 2.73244431e-01,\n",
       "       2.70863972e-01, 2.68477402e-01, 2.66085250e-01, 2.63688042e-01,\n",
       "       2.61286301e-01, 2.58880547e-01, 2.56471294e-01, 2.54059056e-01,\n",
       "       2.51644341e-01, 2.49227652e-01, 2.46809491e-01, 2.44390351e-01,\n",
       "       2.41970725e-01, 2.39551098e-01, 2.37131952e-01, 2.34713764e-01,\n",
       "       2.32297005e-01, 2.29882141e-01, 2.27469632e-01, 2.25059935e-01,\n",
       "       2.22653499e-01, 2.20250767e-01, 2.17852177e-01, 2.15458162e-01,\n",
       "       2.13069147e-01, 2.10685552e-01, 2.08307790e-01, 2.05936269e-01,\n",
       "       2.03571388e-01, 2.01213543e-01, 1.98863119e-01, 1.96520499e-01,\n",
       "       1.94186055e-01, 1.91860155e-01, 1.89543158e-01, 1.87235418e-01,\n",
       "       1.84937281e-01, 1.82649085e-01, 1.80371163e-01, 1.78103839e-01,\n",
       "       1.75847430e-01, 1.73602247e-01, 1.71368592e-01, 1.69146761e-01,\n",
       "       1.66937042e-01, 1.64739715e-01, 1.62555055e-01, 1.60383327e-01,\n",
       "       1.58224790e-01, 1.56079696e-01, 1.53948287e-01, 1.51830800e-01,\n",
       "       1.49727466e-01, 1.47638504e-01, 1.45564130e-01, 1.43504551e-01,\n",
       "       1.41459965e-01, 1.39430566e-01, 1.37416539e-01, 1.35418062e-01,\n",
       "       1.33435304e-01, 1.31468430e-01, 1.29517596e-01, 1.27582951e-01,\n",
       "       1.25664637e-01, 1.23762790e-01, 1.21877537e-01, 1.20009001e-01,\n",
       "       1.18157295e-01, 1.16322528e-01, 1.14504800e-01, 1.12704207e-01,\n",
       "       1.10920835e-01, 1.09154766e-01, 1.07406075e-01, 1.05674831e-01,\n",
       "       1.03961095e-01, 1.02264925e-01, 1.00586368e-01, 9.89254707e-02,\n",
       "       9.72822693e-02, 9.56567962e-02, 9.40490774e-02, 9.24591334e-02,\n",
       "       9.08869790e-02, 8.93326235e-02, 8.77960706e-02, 8.62773188e-02,\n",
       "       8.47763613e-02, 8.32931861e-02, 8.18277760e-02, 8.03801091e-02,\n",
       "       7.89501583e-02, 7.75378920e-02, 7.61432737e-02, 7.47662624e-02,\n",
       "       7.34068126e-02, 7.20648743e-02, 7.07403935e-02, 6.94333115e-02,\n",
       "       6.81435661e-02, 6.68710906e-02, 6.56158148e-02, 6.43776643e-02,\n",
       "       6.31565614e-02, 6.19524246e-02, 6.07651690e-02, 5.95947061e-02,\n",
       "       5.84409443e-02, 5.73037889e-02, 5.61831419e-02, 5.50789024e-02,\n",
       "       5.39909665e-02, 5.29192277e-02, 5.18635767e-02, 5.08239015e-02,\n",
       "       4.98000877e-02, 4.87920186e-02, 4.77995749e-02, 4.68226353e-02,\n",
       "       4.58610763e-02, 4.49147723e-02, 4.39835960e-02, 4.30674179e-02,\n",
       "       4.21661070e-02, 4.12795304e-02, 4.04075539e-02, 3.95500416e-02,\n",
       "       3.87068561e-02, 3.78778590e-02, 3.70629102e-02, 3.62618689e-02,\n",
       "       3.54745928e-02, 3.47009390e-02, 3.39407632e-02, 3.31939206e-02,\n",
       "       3.24602656e-02, 3.17396518e-02, 3.10319322e-02, 3.03369592e-02,\n",
       "       2.96545848e-02, 2.89846606e-02, 2.83270377e-02, 2.76815671e-02,\n",
       "       2.70480995e-02, 2.64264855e-02, 2.58165755e-02, 2.52182199e-02,\n",
       "       2.46312693e-02, 2.40555742e-02, 2.34909854e-02, 2.29373537e-02,\n",
       "       2.23945303e-02, 2.18623668e-02, 2.13407149e-02, 2.08294270e-02,\n",
       "       2.03283557e-02, 1.98373544e-02, 1.93562767e-02, 1.88849771e-02,\n",
       "       1.84233106e-02, 1.79711330e-02, 1.75283005e-02, 1.70946705e-02,\n",
       "       1.66701008e-02, 1.62544505e-02, 1.58475790e-02, 1.54493471e-02,\n",
       "       1.50596163e-02, 1.46782491e-02, 1.43051090e-02, 1.39400605e-02,\n",
       "       1.35829692e-02, 1.32337018e-02, 1.28921261e-02, 1.25581109e-02,\n",
       "       1.22315264e-02, 1.19122436e-02, 1.16001351e-02, 1.12950745e-02,\n",
       "       1.09969366e-02, 1.07055976e-02, 1.04209348e-02, 1.01428269e-02,\n",
       "       9.87115379e-03, 9.60579676e-03, 9.34663837e-03, 9.09356250e-03,\n",
       "       8.84645440e-03, 8.60520064e-03, 8.36968915e-03, 8.13980925e-03,\n",
       "       7.91545158e-03, 7.69650820e-03, 7.48287253e-03, 7.27443936e-03,\n",
       "       7.07110489e-03, 6.87276669e-03, 6.67932374e-03, 6.49067639e-03,\n",
       "       6.30672640e-03, 6.12737690e-03, 5.95253242e-03, 5.78209889e-03,\n",
       "       5.61598360e-03, 5.45409524e-03, 5.29634387e-03, 5.14264092e-03,\n",
       "       4.99289921e-03, 4.84703291e-03, 4.70495753e-03, 4.56658995e-03,\n",
       "       4.43184841e-03, 4.30065246e-03, 4.17292298e-03, 4.04858220e-03,\n",
       "       3.92755363e-03, 3.80976210e-03, 3.69513373e-03, 3.58359593e-03,\n",
       "       3.47507738e-03, 3.36950802e-03, 3.26681906e-03, 3.16694293e-03,\n",
       "       3.06981330e-03, 2.97536508e-03, 2.88353435e-03, 2.79425841e-03,\n",
       "       2.70747576e-03, 2.62312602e-03, 2.54115003e-03, 2.46148972e-03,\n",
       "       2.38408820e-03, 2.30888967e-03, 2.23583944e-03, 2.16488393e-03,\n",
       "       2.09597061e-03, 2.02904806e-03, 1.96406587e-03, 1.90097468e-03,\n",
       "       1.83972618e-03, 1.78027304e-03, 1.72256894e-03, 1.66656854e-03,\n",
       "       1.61222747e-03, 1.55950232e-03, 1.50835061e-03, 1.45873080e-03,\n",
       "       1.41060226e-03, 1.36392524e-03, 1.31866089e-03, 1.27477124e-03,\n",
       "       1.23221917e-03, 1.19096839e-03, 1.15098344e-03, 1.11222971e-03,\n",
       "       1.07467334e-03, 1.03828130e-03, 1.00302130e-03, 9.68861843e-04,\n",
       "       9.35772157e-04, 9.03722211e-04, 8.72682695e-04, 8.42625005e-04,\n",
       "       8.13521231e-04, 7.85344146e-04, 7.58067191e-04, 7.31664463e-04,\n",
       "       7.06110700e-04, 6.81381275e-04, 6.57452176e-04, 6.34299998e-04,\n",
       "       6.11901930e-04, 5.90235745e-04, 5.69279784e-04, 5.49012947e-04,\n",
       "       5.29414683e-04, 5.10464974e-04, 4.92144329e-04, 4.74433768e-04,\n",
       "       4.57314814e-04, 4.40769483e-04, 4.24780271e-04, 4.09330142e-04,\n",
       "       3.94402525e-04, 3.79981294e-04, 3.66050765e-04, 3.52595682e-04,\n",
       "       3.39601212e-04, 3.27052930e-04, 3.14936813e-04, 3.03239228e-04,\n",
       "       2.91946926e-04, 2.81047031e-04, 2.70527031e-04, 2.60374772e-04,\n",
       "       2.50578445e-04, 2.41126580e-04, 2.32008040e-04, 2.23212007e-04,\n",
       "       2.14727982e-04, 2.06545768e-04, 1.98655471e-04, 1.91047488e-04,\n",
       "       1.83712498e-04, 1.76641459e-04, 1.69825599e-04, 1.63256409e-04,\n",
       "       1.56925634e-04, 1.50825272e-04, 1.44947560e-04, 1.39284976e-04,\n",
       "       1.33830226e-04, 1.28576239e-04, 1.23516163e-04, 1.18643361e-04,\n",
       "       1.13951398e-04, 1.09434043e-04, 1.05085260e-04, 1.00899203e-04,\n",
       "       9.68702084e-05, 9.29927957e-05, 8.92616572e-05, 8.56716551e-05,\n",
       "       8.22178165e-05, 7.88953290e-05, 7.56995355e-05, 7.26259303e-05,\n",
       "       6.96701544e-05, 6.68279913e-05, 6.40953632e-05, 6.14683264e-05,\n",
       "       5.89430678e-05, 5.65159006e-05, 5.41832611e-05, 5.19417046e-05,\n",
       "       4.97879021e-05, 4.77186365e-05, 4.57307997e-05, 4.38213887e-05,\n",
       "       4.19875029e-05, 4.02263408e-05, 3.85351967e-05, 3.69114583e-05,\n",
       "       3.53526030e-05, 3.38561960e-05, 3.24198868e-05, 3.10414071e-05,\n",
       "       2.97185677e-05, 2.84492564e-05, 2.72314356e-05, 2.60631392e-05,\n",
       "       2.49424713e-05, 2.38676032e-05, 2.28367716e-05, 2.18482762e-05,\n",
       "       2.09004779e-05, 1.99917967e-05, 1.91207097e-05, 1.82857492e-05,\n",
       "       1.74855010e-05, 1.67186026e-05, 1.59837411e-05, 1.52796522e-05,\n",
       "       1.46051181e-05, 1.39589660e-05, 1.33400665e-05, 1.27473324e-05,\n",
       "       1.21797170e-05, 1.16362128e-05, 1.11158501e-05, 1.06176958e-05,\n",
       "       1.01408521e-05, 9.68445502e-06, 9.24767367e-06, 8.82970870e-06,\n",
       "       8.42979138e-06, 8.04718246e-06, 7.68117112e-06, 7.33107399e-06,\n",
       "       6.99623414e-06, 6.67602015e-06, 6.36982518e-06, 6.07706607e-06,\n",
       "       5.79718251e-06, 5.52963619e-06, 5.27391001e-06, 5.02950729e-06,\n",
       "       4.79595102e-06, 4.57278315e-06, 4.35956388e-06, 4.15587096e-06,\n",
       "       3.96129909e-06, 3.77545923e-06, 3.59797801e-06, 3.42849718e-06,\n",
       "       3.26667296e-06, 3.11217558e-06, 2.96468867e-06, 2.82390880e-06,\n",
       "       2.68954497e-06, 2.56131814e-06, 2.43896075e-06, 2.32221628e-06,\n",
       "       2.21083887e-06, 2.10459284e-06, 2.00325233e-06, 1.90660090e-06,\n",
       "       1.81443119e-06, 1.72654452e-06, 1.64275059e-06, 1.56286711e-06])"
      ]
     },
     "execution_count": 96,
     "metadata": {},
     "output_type": "execute_result"
    }
   ],
   "source": [
    "red"
   ]
  },
  {
   "cell_type": "code",
   "execution_count": 97,
   "metadata": {},
   "outputs": [
    {
     "data": {
      "text/plain": [
       "(1000,)"
      ]
     },
     "execution_count": 97,
     "metadata": {},
     "output_type": "execute_result"
    }
   ],
   "source": [
    "red.shape"
   ]
  },
  {
   "cell_type": "code",
   "execution_count": 98,
   "metadata": {},
   "outputs": [],
   "source": [
    "(xarray,blue) =normal(0, np.sqrt(0.2), -5, 5, 0.01)"
   ]
  },
  {
   "cell_type": "code",
   "execution_count": 99,
   "metadata": {},
   "outputs": [],
   "source": [
    "(xarray,yellow) = normal(0, np.sqrt(5), -5, 5, 0.01)"
   ]
  },
  {
   "cell_type": "code",
   "execution_count": 100,
   "metadata": {},
   "outputs": [],
   "source": [
    "(xarray,green) =normal(0, np.sqrt(0.5), -5, 5, 0.01)"
   ]
  },
  {
   "cell_type": "code",
   "execution_count": 102,
   "metadata": {},
   "outputs": [
    {
     "data": {
      "text/plain": [
       "[<matplotlib.lines.Line2D at 0x26b8f4bd8d0>,\n",
       " <matplotlib.lines.Line2D at 0x26b8f4bda20>,\n",
       " <matplotlib.lines.Line2D at 0x26b8f4bdd68>,\n",
       " <matplotlib.lines.Line2D at 0x26b8f4ce320>]"
      ]
     },
     "execution_count": 102,
     "metadata": {},
     "output_type": "execute_result"
    },
    {
     "data": {
      "image/png": "[encoded data removed]",
      "text/plain": [
       "<Figure size 432x288 with 1 Axes>"
      ]
     },
     "metadata": {
      "needs_background": "light"
     },
     "output_type": "display_data"
    }
   ],
   "source": [
    "plt.plot(xarray, red, 'r-', xarray, blue, 'b-', xarray, yellow, 'y-', xarray, green, 'g-')"
   ]
  },
  {
   "cell_type": "code",
   "execution_count": 121,
   "metadata": {},
   "outputs": [
    {
     "data": {
      "text/plain": [
       "prices    0.010413\n",
       "dtype: float64"
      ]
     },
     "execution_count": 121,
     "metadata": {},
     "output_type": "execute_result"
    }
   ],
   "source": [
    "# Part 10 - Create the kernal density estimate for the monet dataset\n",
    "\n",
    "df.min()"
   ]
  },
  {
   "cell_type": "code",
   "execution_count": 123,
   "metadata": {},
   "outputs": [
    {
     "data": {
      "text/plain": [
       "prices    33.013504\n",
       "dtype: float64"
      ]
     },
     "execution_count": 123,
     "metadata": {},
     "output_type": "execute_result"
    }
   ],
   "source": [
    "df.max()"
   ]
  },
  {
   "cell_type": "code",
   "execution_count": 131,
   "metadata": {},
   "outputs": [],
   "source": [
    "# Define gaussian for calculating kernals\n",
    "\n",
    "def gaussian(x,b=1):\n",
    "    return np.exp(-x**2/(2*b**2))/(b*np.sqrt(2*np.pi))"
   ]
  },
  {
   "cell_type": "code",
   "execution_count": 151,
   "metadata": {},
   "outputs": [
    {
     "data": {
      "text/plain": [
       "[<matplotlib.lines.Line2D at 0x26b90bbd080>]"
      ]
     },
     "execution_count": 151,
     "metadata": {},
     "output_type": "execute_result"
    },
    {
     "data": {
      "image/png": "[encoded data removed]",
      "text/plain": [
       "<Figure size 432x288 with 1 Axes>"
      ]
     },
     "metadata": {
      "needs_background": "light"
     },
     "output_type": "display_data"
    }
   ],
   "source": [
    "# Part 11 and 12 - Plot KDE and determine highest peak\n",
    "# Eyeballing, think the peak is around .8 on the x-axis\n",
    "\n",
    "import numpy as np\n",
    "import seaborn as sns\n",
    "ax = sns.kdeplot(df.prices)\n",
    "\n",
    "x = ax.lines[0].get_xdata() # Get the x data of the distribution\n",
    "y = ax.lines[0].get_ydata() # Get the y data of the distribution\n",
    "maxid = np.argmax(y) # The id of the peak (maximum of y data)\n",
    "plt.plot(x[maxid],y[maxid], 'bo', ms=10)\n"
   ]
  },
  {
   "cell_type": "code",
   "execution_count": 152,
   "metadata": {},
   "outputs": [
    {
     "data": {
      "text/plain": [
       "0.691496778778852"
      ]
     },
     "execution_count": 152,
     "metadata": {},
     "output_type": "execute_result"
    }
   ],
   "source": [
    "x[maxid]"
   ]
  }
 ],
 "metadata": {
  "kernelspec": {
   "display_name": "Python 3 (ipykernel)",
   "language": "python",
   "name": "python3"
  },
  "language_info": {
   "codemirror_mode": {
    "name": "ipython",
    "version": 3
   },
   "file_extension": ".py",
   "mimetype": "text/x-python",
   "name": "python",
   "nbconvert_exporter": "python",
   "pygments_lexer": "ipython3",
   "version": "3.9.13"
  }
 },
 "nbformat": 4,
 "nbformat_minor": 2
}
